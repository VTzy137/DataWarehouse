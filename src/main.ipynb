{
 "cells": [
  {
   "cell_type": "code",
   "execution_count": 1,
   "metadata": {},
   "outputs": [
    {
     "name": "stderr",
     "output_type": "stream",
     "text": [
      "25/01/16 16:59:49 WARN Utils: Your hostname, localhost resolves to a loopback address: 127.0.0.1; using 192.168.100.201 instead (on interface wlp0s20f3)\n",
      "25/01/16 16:59:49 WARN Utils: Set SPARK_LOCAL_IP if you need to bind to another address\n",
      "Setting default log level to \"WARN\".\n",
      "To adjust logging level use sc.setLogLevel(newLevel). For SparkR, use setLogLevel(newLevel).\n",
      "25/01/16 16:59:50 WARN NativeCodeLoader: Unable to load native-hadoop library for your platform... using builtin-java classes where applicable\n"
     ]
    }
   ],
   "source": [
    "from pyspark.sql import SparkSession\n",
    "from config import *\n",
    "spark = SparkSession. \\\n",
    "  builder. \\\n",
    "  master(\"local[*]\"). \\\n",
    "  appName(\"main\"). \\\n",
    "  getOrCreate()\n",
    "\n",
    "df_swiggy = spark. \\\n",
    "  read.format(\"csv\"). \\\n",
    "  option(\"header\", \"true\"). \\\n",
    "  load(\"../data/swiggy.csv\")\n",
    "\n",
    "df_zomato = spark. \\\n",
    "  read.format(\"csv\"). \\\n",
    "  option(\"header\", \"true\"). \\\n",
    "  load(\"../data/zomato.csv\")\n",
    "# empty_df = spark.createDataFrame([], schema)\n",
    "\n"
   ]
  },
  {
   "cell_type": "code",
   "execution_count": 2,
   "metadata": {},
   "outputs": [
    {
     "name": "stdout",
     "output_type": "stream",
     "text": [
      "+-----------+----------------------+-----------------+------------+--------------+-------------+--------------------+-----------------------+--------------------+\n",
      "|Area swiggy|Restaurant city swiggy|Restaurant swiggy|Price swiggy|Ratings swiggy|Total ratings|    Food type swiggy|Customer address swiggy|Delivery time swiggy|\n",
      "+-----------+----------------------+-----------------+------------+--------------+-------------+--------------------+-----------------------+--------------------+\n",
      "|Koramangala|             Bangalore|      Tandoor Hut|       300.0|           4.4|          100|Biryani,Chinese,N...|              5Th Block|                  59|\n",
      "+-----------+----------------------+-----------------+------------+--------------+-------------+--------------------+-----------------------+--------------------+\n",
      "only showing top 1 row\n",
      "\n",
      "+---+-----------------+---------------+--------------+--------------------+------------+------------+-------------+----------------+-----------+--------------+\n",
      "|_c0|Restaurant zomato|restaurant type|Ratings zomato|Total ratings zomato|Price zomato|online_order|table booking|Food type zomato|Area zomato|Address zomato|\n",
      "+---+-----------------+---------------+--------------+--------------------+------------+------------+-------------+----------------+-----------+--------------+\n",
      "|  0|     #FeelTheROLL|    Quick Bites|           3.4|                   7|       200.0|          No|           No|       Fast Food|  Bellandur|     Bellandur|\n",
      "+---+-----------------+---------------+--------------+--------------------+------------+------------+-------------+----------------+-----------+--------------+\n",
      "only showing top 1 row\n",
      "\n"
     ]
    },
    {
     "name": "stderr",
     "output_type": "stream",
     "text": [
      "25/01/16 16:59:55 WARN CSVHeaderChecker: CSV header does not conform to the schema.\n",
      " Header: , restaurant name, restaurant type, rate (out of 5), num of ratings, avg cost (two people), online_order, table booking, cuisines type, area, local address\n",
      " Schema: _c0, restaurant name, restaurant type, rate (out of 5), num of ratings, avg cost (two people), online_order, table booking, cuisines type, area, local address\n",
      "Expected: _c0 but found: \n",
      "CSV file: file:///home/vtzy/Documents/code/warehouse/data/zomato.csv\n"
     ]
    }
   ],
   "source": [
    "for old_name, new_name in rename_swiggy.items():\n",
    "    df_swiggy = df_swiggy.withColumnRenamed(old_name, new_name)\n",
    "df_swiggy = df_swiggy.drop(\"ID\")\n",
    "for old_name, new_name in rename_zomato.items():\n",
    "    df_zomato = df_zomato.withColumnRenamed(old_name, new_name)\n",
    "df_zomato = df_zomato.drop(\"Unnamed: 0\")\n",
    "df_swiggy.show(1)\n",
    "df_zomato.show(1)"
   ]
  },
  {
   "cell_type": "code",
   "execution_count": 6,
   "metadata": {},
   "outputs": [
    {
     "name": "stderr",
     "output_type": "stream",
     "text": [
      "25/01/16 17:02:53 WARN CSVHeaderChecker: CSV header does not conform to the schema.\n",
      " Header: , restaurant name, restaurant type, rate (out of 5), num of ratings, avg cost (two people), online_order, table booking, cuisines type, area, local address\n",
      " Schema: _c0, restaurant name, restaurant type, rate (out of 5), num of ratings, avg cost (two people), online_order, table booking, cuisines type, area, local address\n",
      "Expected: _c0 but found: \n",
      "CSV file: file:///home/vtzy/Documents/code/warehouse/data/zomato.csv\n"
     ]
    },
    {
     "name": "stdout",
     "output_type": "stream",
     "text": [
      "+-----------+----------------------+-----------------+------------+--------------+-------------+--------------------+-----------------------+--------------------+----+-----------------+---------------+--------------+--------------------+------------+------------+-------------+--------------------+-----------------+-----------------+\n",
      "|Area swiggy|Restaurant city swiggy|Restaurant swiggy|Price swiggy|Ratings swiggy|Total ratings|    Food type swiggy|Customer address swiggy|Delivery time swiggy| _c0|Restaurant zomato|restaurant type|Ratings zomato|Total ratings zomato|Price zomato|online_order|table booking|    Food type zomato|      Area zomato|   Address zomato|\n",
      "+-----------+----------------------+-----------------+------------+--------------+-------------+--------------------+-----------------------+--------------------+----+-----------------+---------------+--------------+--------------------+------------+------------+-------------+--------------------+-----------------+-----------------+\n",
      "|Koramangala|             Bangalore|      Tandoor Hut|       300.0|           4.4|          100|Biryani,Chinese,N...|              5Th Block|                  59|6058|      Tandoor Hut|  Casual Dining|           2.2|                  90|       750.0|          No|           No|North Indian, Chi...|Bannerghatta Road|Bannerghatta Road|\n",
      "|Koramangala|             Bangalore|    Tunday Kababi|       300.0|           4.1|          100|    Mughlai,Lucknowi|              5Th Block|                  56|6712|    Tunday Kababi|  Casual Dining|           3.8|                 721|       500.0|         Yes|           No|North Indian, Rol...|      Indiranagar|      Indiranagar|\n",
      "+-----------+----------------------+-----------------+------------+--------------+-------------+--------------------+-----------------------+--------------------+----+-----------------+---------------+--------------+--------------------+------------+------------+-------------+--------------------+-----------------+-----------------+\n",
      "only showing top 2 rows\n",
      "\n"
     ]
    },
    {
     "name": "stderr",
     "output_type": "stream",
     "text": [
      "25/01/16 17:02:53 WARN CSVHeaderChecker: CSV header does not conform to the schema.\n",
      " Header: , restaurant name, restaurant type, rate (out of 5), num of ratings, avg cost (two people), online_order, table booking, cuisines type, area, local address\n",
      " Schema: _c0, restaurant name, restaurant type, rate (out of 5), num of ratings, avg cost (two people), online_order, table booking, cuisines type, area, local address\n",
      "Expected: _c0 but found: \n",
      "CSV file: file:///home/vtzy/Documents/code/warehouse/data/zomato.csv\n",
      "25/01/16 17:02:54 WARN CSVHeaderChecker: CSV header does not conform to the schema.\n",
      " Header: , restaurant name, restaurant type, rate (out of 5), num of ratings, avg cost (two people), online_order, table booking, cuisines type, area, local address\n",
      " Schema: _c0, restaurant name, restaurant type, rate (out of 5), num of ratings, avg cost (two people), online_order, table booking, cuisines type, area, local address\n",
      "Expected: _c0 but found: \n",
      "CSV file: file:///home/vtzy/Documents/code/warehouse/data/zomato.csv\n"
     ]
    },
    {
     "name": "stdout",
     "output_type": "stream",
     "text": [
      "+-----------+----------------------+-----------------+------------+--------------+-------------+--------------------+-----------------------+--------------------+----+---------------+--------------+--------------------+------------+------------+-------------+--------------------+-----------------+-----------------+\n",
      "|Area swiggy|Restaurant city swiggy|Restaurant swiggy|Price swiggy|Ratings swiggy|Total ratings|    Food type swiggy|Customer address swiggy|Delivery time swiggy| _c0|restaurant type|Ratings zomato|Total ratings zomato|Price zomato|online_order|table booking|    Food type zomato|      Area zomato|   Address zomato|\n",
      "+-----------+----------------------+-----------------+------------+--------------+-------------+--------------------+-----------------------+--------------------+----+---------------+--------------+--------------------+------------+------------+-------------+--------------------+-----------------+-----------------+\n",
      "|Koramangala|             Bangalore|      Tandoor Hut|       300.0|           4.4|          100|Biryani,Chinese,N...|              5Th Block|                  59|6058|  Casual Dining|           2.2|                  90|       750.0|          No|           No|North Indian, Chi...|Bannerghatta Road|Bannerghatta Road|\n",
      "|Koramangala|             Bangalore|    Tunday Kababi|       300.0|           4.1|          100|    Mughlai,Lucknowi|              5Th Block|                  56|6712|  Casual Dining|           3.8|                 721|       500.0|         Yes|           No|North Indian, Rol...|      Indiranagar|      Indiranagar|\n",
      "+-----------+----------------------+-----------------+------------+--------------+-------------+--------------------+-----------------------+--------------------+----+---------------+--------------+--------------------+------------+------------+-------------+--------------------+-----------------+-----------------+\n",
      "only showing top 2 rows\n",
      "\n",
      "+-----------+----------------------+-------------+------------+--------------+-------------+--------------------+-----------------------+--------------------+----+---------------+--------------+--------------------+------------+------------+-------------+--------------------+-----------------+-----------------+\n",
      "|Area swiggy|Restaurant city swiggy|   Restaurant|Price swiggy|Ratings swiggy|Total ratings|    Food type swiggy|Customer address swiggy|Delivery time swiggy| _c0|restaurant type|Ratings zomato|Total ratings zomato|Price zomato|online_order|table booking|    Food type zomato|      Area zomato|   Address zomato|\n",
      "+-----------+----------------------+-------------+------------+--------------+-------------+--------------------+-----------------------+--------------------+----+---------------+--------------+--------------------+------------+------------+-------------+--------------------+-----------------+-----------------+\n",
      "|Koramangala|             Bangalore|  Tandoor Hut|       300.0|           4.4|          100|Biryani,Chinese,N...|              5Th Block|                  59|6058|  Casual Dining|           2.2|                  90|       750.0|          No|           No|North Indian, Chi...|Bannerghatta Road|Bannerghatta Road|\n",
      "|Koramangala|             Bangalore|Tunday Kababi|       300.0|           4.1|          100|    Mughlai,Lucknowi|              5Th Block|                  56|6712|  Casual Dining|           3.8|                 721|       500.0|         Yes|           No|North Indian, Rol...|      Indiranagar|      Indiranagar|\n",
      "+-----------+----------------------+-------------+------------+--------------+-------------+--------------------+-----------------------+--------------------+----+---------------+--------------+--------------------+------------+------------+-------------+--------------------+-----------------+-----------------+\n",
      "only showing top 2 rows\n",
      "\n"
     ]
    }
   ],
   "source": [
    "\n",
    "merged_df = df_swiggy.join(df_zomato, df_swiggy[\"Restaurant swiggy\"] == df_zomato[\"Restaurant zomato\"], \"inner\")\n",
    "\n",
    "# Show the result\n",
    "merged_df.show(2)\n",
    "merged_df = merged_df.drop(\"Restaurant zomato\")\n",
    "merged_df.show(2)\n",
    "merged_df = merged_df.withColumnRenamed(\"Restaurant swiggy\", \"Restaurant\")\n",
    "merged_df.show(2)"
   ]
  },
  {
   "cell_type": "code",
   "execution_count": 9,
   "metadata": {},
   "outputs": [
    {
     "name": "stdout",
     "output_type": "stream",
     "text": [
      "+-----------+----------------------+-------------+------------+--------------+-------------+--------------------+-----------------------+--------------------+----+---------------+--------------+--------------------+------------+------------+-------------+--------------------+-----------------+-----------------+\n",
      "|Area swiggy|Restaurant city swiggy|   Restaurant|Price swiggy|Ratings swiggy|Total ratings|    Food type swiggy|Customer address swiggy|Delivery time swiggy| _c0|restaurant type|Ratings zomato|Total ratings zomato|Price zomato|online_order|table booking|    Food type zomato|      Area zomato|   Address zomato|\n",
      "+-----------+----------------------+-------------+------------+--------------+-------------+--------------------+-----------------------+--------------------+----+---------------+--------------+--------------------+------------+------------+-------------+--------------------+-----------------+-----------------+\n",
      "|Koramangala|             Bangalore|  Tandoor Hut|       300.0|           4.4|          100|Biryani,Chinese,N...|              5Th Block|                  59|6058|  Casual Dining|           2.2|                  90|       750.0|          No|           No|North Indian, Chi...|Bannerghatta Road|Bannerghatta Road|\n",
      "|Koramangala|             Bangalore|Tunday Kababi|       300.0|           4.1|          100|    Mughlai,Lucknowi|              5Th Block|                  56|6712|  Casual Dining|           3.8|                 721|       500.0|         Yes|           No|North Indian, Rol...|      Indiranagar|      Indiranagar|\n",
      "+-----------+----------------------+-------------+------------+--------------+-------------+--------------------+-----------------------+--------------------+----+---------------+--------------+--------------------+------------+------------+-------------+--------------------+-----------------+-----------------+\n",
      "only showing top 2 rows\n",
      "\n"
     ]
    },
    {
     "name": "stderr",
     "output_type": "stream",
     "text": [
      "25/01/16 17:11:44 WARN CSVHeaderChecker: CSV header does not conform to the schema.\n",
      " Header: , restaurant name, restaurant type, rate (out of 5), num of ratings, avg cost (two people), online_order, table booking, cuisines type, area, local address\n",
      " Schema: _c0, restaurant name, restaurant type, rate (out of 5), num of ratings, avg cost (two people), online_order, table booking, cuisines type, area, local address\n",
      "Expected: _c0 but found: \n",
      "CSV file: file:///home/vtzy/Documents/code/warehouse/data/zomato.csv\n"
     ]
    }
   ],
   "source": [
    "merged_df.show(2)"
   ]
  },
  {
   "cell_type": "code",
   "execution_count": 15,
   "metadata": {},
   "outputs": [
    {
     "name": "stderr",
     "output_type": "stream",
     "text": [
      "25/01/16 17:19:45 WARN CSVHeaderChecker: CSV header does not conform to the schema.\n",
      " Header: , restaurant name, restaurant type, rate (out of 5), num of ratings, avg cost (two people), online_order, table booking, cuisines type, area, local address\n",
      " Schema: _c0, restaurant name, restaurant type, rate (out of 5), num of ratings, avg cost (two people), online_order, table booking, cuisines type, area, local address\n",
      "Expected: _c0 but found: \n",
      "CSV file: file:///home/vtzy/Documents/code/warehouse/data/zomato.csv\n"
     ]
    }
   ],
   "source": [
    "merged_df.write \\\n",
    "    .format(\"csv\") \\\n",
    "    .mode(\"append\") \\\n",
    "    .option(\"path\", \"/home/vtzy/Documents/code/warehouse/data\") \\\n",
    "    .option(\"header\", \"true\") \\\n",
    "    .save()\n",
    "\n"
   ]
  },
  {
   "cell_type": "code",
   "execution_count": null,
   "metadata": {},
   "outputs": [],
   "source": []
  }
 ],
 "metadata": {
  "kernelspec": {
   "display_name": "myenv",
   "language": "python",
   "name": "python3"
  },
  "language_info": {
   "codemirror_mode": {
    "name": "ipython",
    "version": 3
   },
   "file_extension": ".py",
   "mimetype": "text/x-python",
   "name": "python",
   "nbconvert_exporter": "python",
   "pygments_lexer": "ipython3",
   "version": "3.12.3"
  }
 },
 "nbformat": 4,
 "nbformat_minor": 2
}
